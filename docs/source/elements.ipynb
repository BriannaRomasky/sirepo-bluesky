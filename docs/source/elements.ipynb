{
 "cells": [
  {
   "cell_type": "markdown",
   "metadata": {},
   "source": [
    "# Elements as Ophyd Objects\n",
    "\n",
    "## Prepare Bluesky and trigger a simulated Sirepo detector in SRW\n"
   ]
  },
  {
   "cell_type": "markdown",
   "metadata": {},
   "source": [
    "Start ``ipython`` and run the following where ``sim_id`` is the UID for the simulation we are working with:"
   ]
  },
  {
   "cell_type": "code",
   "execution_count": 8,
   "metadata": {},
   "outputs": [
    {
     "name": "stdout",
     "output_type": "stream",
     "text": [
      "\n",
      "\n",
      "Transient Scan ID: 1     Time: 2021-12-10 12:04:30\n",
      "Persistent Unique Scan ID: '6f6993e1-0601-4a51-82b1-117db04dd283'\n",
      "A 'deferred pause' has been requested. The RunEngine will pause at the next checkpoint. To pause immediately, hit Ctrl+C again in the next 10 seconds.\n"
     ]
    }
   ],
   "source": [
    "from sirepo_bluesky.sirepo_bluesky import SirepoBluesky\n",
    "from sirepo_bluesky.sirepo_ophyd import create_classes\n",
    "\n",
    "connection = SirepoBluesky(\"http://localhost:8000\")\n",
    "\n",
    "data, _ = connection.auth(\"srw\", \"00000002\")\n",
    "classes, objects = create_classes(connection.data,\n",
    "                                  connection=connection)\n",
    "globals().update(**objects)\n",
    "\n",
    "%run -i _prepare_det_env.py\n",
    "\n",
    "aperture.horizontalSize.kind = \"hinted\"  # noqa F821\n",
    "\n",
    "(uid,) = RE(bp.scan([w9], aperture.horizontalSize, 0, 2, 2))  # noqa F821\n",
    "hdr = db[uid]\n",
    "tbl = hdr.table(fill=True)\n",
    "print(tbl)\n",
    "\n",
    "w9_image = np.array(list(hdr.data(\"w9_image\")))"
   ]
  },
  {
   "cell_type": "code",
   "execution_count": 6,
   "metadata": {},
   "outputs": [
    {
     "data": {
      "text/plain": [
       "<matplotlib.image.AxesImage at 0x1a54e3340>"
      ]
     },
     "execution_count": 6,
     "metadata": {},
     "output_type": "execute_result"
    },
    {
     "data": {
      "image/png": "[encoded data removed]",
      "text/plain": [
       "<Figure size 432x288 with 1 Axes>"
      ]
     },
     "metadata": {
      "needs_background": "light"
     },
     "output_type": "display_data"
    }
   ],
   "source": [
    "plt.imshow(w9_image[1])"
   ]
  },
  {
   "cell_type": "code",
   "execution_count": null,
   "metadata": {},
   "outputs": [],
   "source": [
    "def test_beam_statistics_report_only(RE, db, shadow_tes_simulation):\n",
    "    from sirepo_bluesky.sirepo_ophyd import create_classes\n",
    "\n",
    "    classes, objects = create_classes(\n",
    "        shadow_tes_simulation.data, connection=shadow_tes_simulation\n",
    "    )\n",
    "    globals().update(**objects)\n",
    "    from sirepo_bluesky.sirepo_ophyd import BeamStatisticsReport\n",
    "\n",
    "    bsr = BeamStatisticsReport(name=\"bsr\", connection=shadow_tes_simulation)\n",
    "\n",
    "    toroid.r_maj.kind = \"hinted\"  # noqa F821\n",
    "\n",
    "    scan_range = (10_000, 50_000, 21)\n",
    "\n",
    "    (uid,) = RE(bp.scan([bsr], toroid.r_maj, *scan_range))  # noqa F821\n",
    "    hdr = db[uid]\n",
    "    tbl = hdr.table()\n",
    "    print(tbl)\n",
    "\n",
    "    data = np.array(tbl[\"time\"].diff(), dtype=float)[1:] / 1e9\n",
    "    print(f\"Durations (seconds): {data}\")\n",
    "\n",
    "    fig = plt.figure()\n",
    "    ax = fig.add_subplot()\n",
    "    ax.plot(np.linspace(*scan_range)[1:], data)\n",
    "    ax.set_ylabel(\"Duration of simulations [s]\")\n",
    "    ax.set_xlabel(\"Torus Major Radius [m]\")\n",
    "    title = (\n",
    "        f\"Shadow TES simulation\\n\"\n",
    "        f\"RE(bp.scan([bsr], toroid.r_maj, \"\n",
    "        f\"{', '.join([str(x) for x in scan_range])}))\"\n",
    "    )\n",
    "    ax.set_title(title)\n",
    "    fig.savefig(\"TES-Shadow-timing.png\")"
   ]
  },
  {
   "cell_type": "markdown",
   "metadata": {},
   "source": [
    "We can access the data as the last item in the database (db[-1]), which when plotted as an image will look like:"
   ]
  },
  {
   "cell_type": "markdown",
   "metadata": {},
   "source": [
    "Leading/trailing empty lines:"
   ]
  }
 ],
 "metadata": {
  "kernelspec": {
   "display_name": "Python 3",
   "language": "python",
   "name": "python3"
  },
  "language_info": {
   "codemirror_mode": {
    "name": "ipython",
    "version": 3
   },
   "file_extension": ".py",
   "mimetype": "text/x-python",
   "name": "python",
   "nbconvert_exporter": "python",
   "pygments_lexer": "ipython3",
   "version": "3.9.7"
  }
 },
 "nbformat": 4,
 "nbformat_minor": 4
}
