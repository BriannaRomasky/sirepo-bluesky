{
 "cells": [
  {
   "cell_type": "markdown",
   "metadata": {},
   "source": [
    "# SRW\n",
    "\n",
    "## Prepare Bluesky and trigger a simulated Sirepo detector in SRW\n"
   ]
  },
  {
   "cell_type": "markdown",
   "metadata": {},
   "source": [
    "Start ``ipython`` and run the code in the following cell. Note that ``sim_id`` may be replaced by the identifier for any supported Sirepo simulation (**Hint:** See the \"List of predefined simulations in Sirepo\" sections for examples of identifiers for different beamlines)."
   ]
  },
  {
   "cell_type": "code",
   "execution_count": 1,
   "metadata": {},
   "outputs": [
    {
     "name": "stdout",
     "output_type": "stream",
     "text": [
      "\n",
      "\n",
      "Transient Scan ID: 1     Time: 2021-12-14 15:36:23\n",
      "Persistent Unique Scan ID: 'f1656479-7e83-4328-9ef3-6dfc9a4c6f04'\n",
      "New stream: 'primary'\n",
      "+-----------+------------+--------------------------------+--------------+\n",
      "|   seq_num |       time | Aperture_sirepo_horizontalSize | srw_det_mean |\n",
      "+-----------+------------+--------------------------------+--------------+\n",
      "|         1 | 15:36:28.0 |                          0.000 |        0.000 |\n",
      "|         2 | 15:36:32.2 |                          0.025 | 26308627145980.469 |\n",
      "|         3 | 15:36:36.4 |                          0.050 | 53078019985587.875 |\n",
      "|         4 | 15:36:40.6 |                          0.075 | 79416313384794.328 |\n",
      "|         5 | 15:36:44.8 |                          0.100 | 117643347136211.078 |\n",
      "|         6 | 15:36:49.0 |                          0.125 | 141980447129248.219 |\n",
      "|         7 | 15:36:53.2 |                          0.150 | 165182853921254.469 |\n",
      "|         8 | 15:36:57.5 |                          0.175 | 187085229535948.938 |\n",
      "|         9 | 15:37:01.7 |                          0.200 | 207544619693860.719 |\n",
      "|        10 | 15:37:05.9 |                          0.225 | 229488666962540.531 |\n",
      "|        11 | 15:37:11.1 |                          0.250 | 255227882891592.688 |\n",
      "+-----------+------------+--------------------------------+--------------+\n",
      "generator scan ['f1656479'] (scan num: 1)\n",
      "\n",
      "\n",
      "\n"
     ]
    },
    {
     "data": {
      "image/png": "[encoded data removed]",
      "text/plain": [
       "<Figure size 360x360 with 1 Axes>"
      ]
     },
     "metadata": {
      "needs_background": "light"
     },
     "output_type": "display_data"
    }
   ],
   "source": [
    "%run -i ../../examples/prepare_det_env.py\n",
    "\n",
    "import sirepo_bluesky.srw_detector as sd\n",
    "import bluesky.plans as bp\n",
    "\n",
    "sim_id = '0000000-'\n",
    "\n",
    "srw_det = sd.SirepoSRWDetector(sim_id=sim_id, sim_type='srw',\n",
    "                                sirepo_server='http://localhost:8000',\n",
    "                                root_dir='/tmp/sirepo-bluesky-data')\n",
    "\n",
    "srw_det.select_optic('Aperture')\n",
    "param1 = srw_det.create_parameter('horizontalSize')\n",
    "param2 = srw_det.create_parameter('verticalSize')\n",
    "srw_det.configuration_attrs = ['horizontal_extent', 'vertical_extent', 'shape']\n",
    "uid, = RE(bp.scan([srw_det], param1, 0, .25, 11))"
   ]
  },
  {
   "cell_type": "code",
   "execution_count": 10,
   "metadata": {},
   "outputs": [],
   "source": [
    "sim_id = '00000001'"
   ]
  },
  {
   "cell_type": "markdown",
   "metadata": {},
   "source": [
    "We can access the data as the last item in the database (db[-1]), which when plotted as an image will look like:"
   ]
  },
  {
   "cell_type": "code",
   "execution_count": 11,
   "metadata": {},
   "outputs": [
    {
     "data": {
      "text/html": [
       "<div>\n",
       "<style scoped>\n",
       "    .dataframe tbody tr th:only-of-type {\n",
       "        vertical-align: middle;\n",
       "    }\n",
       "\n",
       "    .dataframe tbody tr th {\n",
       "        vertical-align: top;\n",
       "    }\n",
       "\n",
       "    .dataframe thead th {\n",
       "        text-align: right;\n",
       "    }\n",
       "</style>\n",
       "<table border=\"1\" class=\"dataframe\">\n",
       "  <thead>\n",
       "    <tr style=\"text-align: right;\">\n",
       "      <th></th>\n",
       "      <th>time</th>\n",
       "      <th>Aperture_sirepo_horizontalSize</th>\n",
       "      <th>Aperture_sirepo_horizontalSize_setpoint</th>\n",
       "      <th>srw_det_image</th>\n",
       "      <th>srw_det_shape</th>\n",
       "      <th>srw_det_mean</th>\n",
       "      <th>srw_det_photon_energy</th>\n",
       "      <th>srw_det_horizontal_extent</th>\n",
       "      <th>srw_det_vertical_extent</th>\n",
       "      <th>srw_det_sirepo_json</th>\n",
       "    </tr>\n",
       "    <tr>\n",
       "      <th>seq_num</th>\n",
       "      <th></th>\n",
       "      <th></th>\n",
       "      <th></th>\n",
       "      <th></th>\n",
       "      <th></th>\n",
       "      <th></th>\n",
       "      <th></th>\n",
       "      <th></th>\n",
       "      <th></th>\n",
       "      <th></th>\n",
       "    </tr>\n",
       "  </thead>\n",
       "  <tbody>\n",
       "    <tr>\n",
       "      <th>1</th>\n",
       "      <td>2021-12-14 20:36:28.072677135</td>\n",
       "      <td>0.000</td>\n",
       "      <td>0.000</td>\n",
       "      <td>73e739f5-1604-4581-9f44-a8f573374553/0</td>\n",
       "      <td>[160, 70]</td>\n",
       "      <td>0.000000e+00</td>\n",
       "      <td>9000.0</td>\n",
       "      <td>[-0.00024000000000000006, 0.00024]</td>\n",
       "      <td>[-0.00036, 0.0003599999999999998]</td>\n",
       "      <td>{\"models\": {\"arbitraryMagField\": {\"interpolati...</td>\n",
       "    </tr>\n",
       "    <tr>\n",
       "      <th>2</th>\n",
       "      <td>2021-12-14 20:36:32.295799017</td>\n",
       "      <td>0.025</td>\n",
       "      <td>0.025</td>\n",
       "      <td>1b64e0fc-98ea-484e-9f55-045e396823d4/0</td>\n",
       "      <td>[160, 70]</td>\n",
       "      <td>2.630863e+13</td>\n",
       "      <td>9000.0</td>\n",
       "      <td>[-0.0002053703619142305, 0.0002053703619142305]</td>\n",
       "      <td>[-0.0003071728019585904, 0.00030717280195859017]</td>\n",
       "      <td>{\"models\": {\"arbitraryMagField\": {\"interpolati...</td>\n",
       "    </tr>\n",
       "    <tr>\n",
       "      <th>3</th>\n",
       "      <td>2021-12-14 20:36:36.492445946</td>\n",
       "      <td>0.050</td>\n",
       "      <td>0.050</td>\n",
       "      <td>3c887961-1496-404d-9ae6-dbdc6703fdd2/0</td>\n",
       "      <td>[160, 70]</td>\n",
       "      <td>5.307802e+13</td>\n",
       "      <td>9000.0</td>\n",
       "      <td>[-0.00020324612942849957, 0.00020324612942849957]</td>\n",
       "      <td>[-0.00030717280243331037, 0.00030717280243331026]</td>\n",
       "      <td>{\"models\": {\"arbitraryMagField\": {\"interpolati...</td>\n",
       "    </tr>\n",
       "    <tr>\n",
       "      <th>4</th>\n",
       "      <td>2021-12-14 20:36:40.691241026</td>\n",
       "      <td>0.075</td>\n",
       "      <td>0.075</td>\n",
       "      <td>36218b65-b2b1-4762-aa87-d0060fb09de9/0</td>\n",
       "      <td>[160, 70]</td>\n",
       "      <td>7.941631e+13</td>\n",
       "      <td>9000.0</td>\n",
       "      <td>[-0.00020319159897368846, 0.0002031915989736884]</td>\n",
       "      <td>[-0.00030717280243331037, 0.00030717280243331026]</td>\n",
       "      <td>{\"models\": {\"arbitraryMagField\": {\"interpolati...</td>\n",
       "    </tr>\n",
       "    <tr>\n",
       "      <th>5</th>\n",
       "      <td>2021-12-14 20:36:44.878309011</td>\n",
       "      <td>0.100</td>\n",
       "      <td>0.100</td>\n",
       "      <td>9ab0d99f-0f9e-4710-ac8e-98509dc9b693/0</td>\n",
       "      <td>[160, 70]</td>\n",
       "      <td>1.176433e+14</td>\n",
       "      <td>9000.0</td>\n",
       "      <td>[-0.00020446574938460526, 0.00020446574938460526]</td>\n",
       "      <td>[-0.00030717280243331037, 0.00030717280243331026]</td>\n",
       "      <td>{\"models\": {\"arbitraryMagField\": {\"interpolati...</td>\n",
       "    </tr>\n",
       "    <tr>\n",
       "      <th>6</th>\n",
       "      <td>2021-12-14 20:36:49.091471910</td>\n",
       "      <td>0.125</td>\n",
       "      <td>0.125</td>\n",
       "      <td>fdcd2ae4-918b-4e91-a6dd-6c36eb10dba0/0</td>\n",
       "      <td>[160, 70]</td>\n",
       "      <td>1.419804e+14</td>\n",
       "      <td>9000.0</td>\n",
       "      <td>[-0.00020592277713516027, 0.00020592277713516022]</td>\n",
       "      <td>[-0.00030717280243331037, 0.00030717280243331026]</td>\n",
       "      <td>{\"models\": {\"arbitraryMagField\": {\"interpolati...</td>\n",
       "    </tr>\n",
       "    <tr>\n",
       "      <th>7</th>\n",
       "      <td>2021-12-14 20:36:53.288965940</td>\n",
       "      <td>0.150</td>\n",
       "      <td>0.150</td>\n",
       "      <td>30cf31a0-e506-46b6-a72b-ebb01ed7eef2/0</td>\n",
       "      <td>[160, 70]</td>\n",
       "      <td>1.651829e+14</td>\n",
       "      <td>9000.0</td>\n",
       "      <td>[-0.00020780051885021354, 0.00020780051885021354]</td>\n",
       "      <td>[-0.00030717280243331037, 0.00030717280243331026]</td>\n",
       "      <td>{\"models\": {\"arbitraryMagField\": {\"interpolati...</td>\n",
       "    </tr>\n",
       "    <tr>\n",
       "      <th>8</th>\n",
       "      <td>2021-12-14 20:36:57.513823032</td>\n",
       "      <td>0.175</td>\n",
       "      <td>0.175</td>\n",
       "      <td>14e515fa-d79e-44b2-b37d-1ed5f23b8db1/0</td>\n",
       "      <td>[160, 70]</td>\n",
       "      <td>1.870852e+14</td>\n",
       "      <td>9000.0</td>\n",
       "      <td>[-0.0002100820244934989, 0.0002100820244934989]</td>\n",
       "      <td>[-0.00030717280243331037, 0.00030717280243331026]</td>\n",
       "      <td>{\"models\": {\"arbitraryMagField\": {\"interpolati...</td>\n",
       "    </tr>\n",
       "    <tr>\n",
       "      <th>9</th>\n",
       "      <td>2021-12-14 20:37:01.730952024</td>\n",
       "      <td>0.200</td>\n",
       "      <td>0.200</td>\n",
       "      <td>99122c5f-0df5-4353-bcfb-6a812628766b/0</td>\n",
       "      <td>[160, 70]</td>\n",
       "      <td>2.075446e+14</td>\n",
       "      <td>9000.0</td>\n",
       "      <td>[-0.00021276160945111347, 0.00021276160945111347]</td>\n",
       "      <td>[-0.00030717280243331037, 0.00030717280243331026]</td>\n",
       "      <td>{\"models\": {\"arbitraryMagField\": {\"interpolati...</td>\n",
       "    </tr>\n",
       "    <tr>\n",
       "      <th>10</th>\n",
       "      <td>2021-12-14 20:37:05.929770947</td>\n",
       "      <td>0.225</td>\n",
       "      <td>0.225</td>\n",
       "      <td>8a55eca0-2628-4338-87f7-76b8fb87ff41/0</td>\n",
       "      <td>[160, 70]</td>\n",
       "      <td>2.294887e+14</td>\n",
       "      <td>9000.0</td>\n",
       "      <td>[-0.00021321257953733254, 0.00021321257953733254]</td>\n",
       "      <td>[-0.0003068292466112322, 0.0003068292466112321]</td>\n",
       "      <td>{\"models\": {\"arbitraryMagField\": {\"interpolati...</td>\n",
       "    </tr>\n",
       "    <tr>\n",
       "      <th>11</th>\n",
       "      <td>2021-12-14 20:37:11.153838158</td>\n",
       "      <td>0.250</td>\n",
       "      <td>0.250</td>\n",
       "      <td>67dd3b87-df71-46ac-b5e4-30ba0aa65563/0</td>\n",
       "      <td>[160, 70]</td>\n",
       "      <td>2.552279e+14</td>\n",
       "      <td>9000.0</td>\n",
       "      <td>[-0.00021832441146490267, 0.00021832441146490262]</td>\n",
       "      <td>[-0.0003068860093577794, 0.0003068860093577793]</td>\n",
       "      <td>{\"models\": {\"arbitraryMagField\": {\"interpolati...</td>\n",
       "    </tr>\n",
       "  </tbody>\n",
       "</table>\n",
       "</div>"
      ],
      "text/plain": [
       "                                 time  Aperture_sirepo_horizontalSize  \\\n",
       "seq_num                                                                 \n",
       "1       2021-12-14 20:36:28.072677135                           0.000   \n",
       "2       2021-12-14 20:36:32.295799017                           0.025   \n",
       "3       2021-12-14 20:36:36.492445946                           0.050   \n",
       "4       2021-12-14 20:36:40.691241026                           0.075   \n",
       "5       2021-12-14 20:36:44.878309011                           0.100   \n",
       "6       2021-12-14 20:36:49.091471910                           0.125   \n",
       "7       2021-12-14 20:36:53.288965940                           0.150   \n",
       "8       2021-12-14 20:36:57.513823032                           0.175   \n",
       "9       2021-12-14 20:37:01.730952024                           0.200   \n",
       "10      2021-12-14 20:37:05.929770947                           0.225   \n",
       "11      2021-12-14 20:37:11.153838158                           0.250   \n",
       "\n",
       "         Aperture_sirepo_horizontalSize_setpoint  \\\n",
       "seq_num                                            \n",
       "1                                          0.000   \n",
       "2                                          0.025   \n",
       "3                                          0.050   \n",
       "4                                          0.075   \n",
       "5                                          0.100   \n",
       "6                                          0.125   \n",
       "7                                          0.150   \n",
       "8                                          0.175   \n",
       "9                                          0.200   \n",
       "10                                         0.225   \n",
       "11                                         0.250   \n",
       "\n",
       "                                  srw_det_image srw_det_shape  srw_det_mean  \\\n",
       "seq_num                                                                       \n",
       "1        73e739f5-1604-4581-9f44-a8f573374553/0     [160, 70]  0.000000e+00   \n",
       "2        1b64e0fc-98ea-484e-9f55-045e396823d4/0     [160, 70]  2.630863e+13   \n",
       "3        3c887961-1496-404d-9ae6-dbdc6703fdd2/0     [160, 70]  5.307802e+13   \n",
       "4        36218b65-b2b1-4762-aa87-d0060fb09de9/0     [160, 70]  7.941631e+13   \n",
       "5        9ab0d99f-0f9e-4710-ac8e-98509dc9b693/0     [160, 70]  1.176433e+14   \n",
       "6        fdcd2ae4-918b-4e91-a6dd-6c36eb10dba0/0     [160, 70]  1.419804e+14   \n",
       "7        30cf31a0-e506-46b6-a72b-ebb01ed7eef2/0     [160, 70]  1.651829e+14   \n",
       "8        14e515fa-d79e-44b2-b37d-1ed5f23b8db1/0     [160, 70]  1.870852e+14   \n",
       "9        99122c5f-0df5-4353-bcfb-6a812628766b/0     [160, 70]  2.075446e+14   \n",
       "10       8a55eca0-2628-4338-87f7-76b8fb87ff41/0     [160, 70]  2.294887e+14   \n",
       "11       67dd3b87-df71-46ac-b5e4-30ba0aa65563/0     [160, 70]  2.552279e+14   \n",
       "\n",
       "         srw_det_photon_energy  \\\n",
       "seq_num                          \n",
       "1                       9000.0   \n",
       "2                       9000.0   \n",
       "3                       9000.0   \n",
       "4                       9000.0   \n",
       "5                       9000.0   \n",
       "6                       9000.0   \n",
       "7                       9000.0   \n",
       "8                       9000.0   \n",
       "9                       9000.0   \n",
       "10                      9000.0   \n",
       "11                      9000.0   \n",
       "\n",
       "                                 srw_det_horizontal_extent  \\\n",
       "seq_num                                                      \n",
       "1                       [-0.00024000000000000006, 0.00024]   \n",
       "2          [-0.0002053703619142305, 0.0002053703619142305]   \n",
       "3        [-0.00020324612942849957, 0.00020324612942849957]   \n",
       "4         [-0.00020319159897368846, 0.0002031915989736884]   \n",
       "5        [-0.00020446574938460526, 0.00020446574938460526]   \n",
       "6        [-0.00020592277713516027, 0.00020592277713516022]   \n",
       "7        [-0.00020780051885021354, 0.00020780051885021354]   \n",
       "8          [-0.0002100820244934989, 0.0002100820244934989]   \n",
       "9        [-0.00021276160945111347, 0.00021276160945111347]   \n",
       "10       [-0.00021321257953733254, 0.00021321257953733254]   \n",
       "11       [-0.00021832441146490267, 0.00021832441146490262]   \n",
       "\n",
       "                                   srw_det_vertical_extent  \\\n",
       "seq_num                                                      \n",
       "1                        [-0.00036, 0.0003599999999999998]   \n",
       "2         [-0.0003071728019585904, 0.00030717280195859017]   \n",
       "3        [-0.00030717280243331037, 0.00030717280243331026]   \n",
       "4        [-0.00030717280243331037, 0.00030717280243331026]   \n",
       "5        [-0.00030717280243331037, 0.00030717280243331026]   \n",
       "6        [-0.00030717280243331037, 0.00030717280243331026]   \n",
       "7        [-0.00030717280243331037, 0.00030717280243331026]   \n",
       "8        [-0.00030717280243331037, 0.00030717280243331026]   \n",
       "9        [-0.00030717280243331037, 0.00030717280243331026]   \n",
       "10         [-0.0003068292466112322, 0.0003068292466112321]   \n",
       "11         [-0.0003068860093577794, 0.0003068860093577793]   \n",
       "\n",
       "                                       srw_det_sirepo_json  \n",
       "seq_num                                                     \n",
       "1        {\"models\": {\"arbitraryMagField\": {\"interpolati...  \n",
       "2        {\"models\": {\"arbitraryMagField\": {\"interpolati...  \n",
       "3        {\"models\": {\"arbitraryMagField\": {\"interpolati...  \n",
       "4        {\"models\": {\"arbitraryMagField\": {\"interpolati...  \n",
       "5        {\"models\": {\"arbitraryMagField\": {\"interpolati...  \n",
       "6        {\"models\": {\"arbitraryMagField\": {\"interpolati...  \n",
       "7        {\"models\": {\"arbitraryMagField\": {\"interpolati...  \n",
       "8        {\"models\": {\"arbitraryMagField\": {\"interpolati...  \n",
       "9        {\"models\": {\"arbitraryMagField\": {\"interpolati...  \n",
       "10       {\"models\": {\"arbitraryMagField\": {\"interpolati...  \n",
       "11       {\"models\": {\"arbitraryMagField\": {\"interpolati...  "
      ]
     },
     "execution_count": 11,
     "metadata": {},
     "output_type": "execute_result"
    }
   ],
   "source": [
    "hdr = db[-1]\n",
    "hdr.table()"
   ]
  },
  {
   "cell_type": "code",
   "execution_count": 12,
   "metadata": {},
   "outputs": [
    {
     "data": {
      "text/plain": [
       "<matplotlib.image.AxesImage at 0x1a7b28190>"
      ]
     },
     "execution_count": 12,
     "metadata": {},
     "output_type": "execute_result"
    },
    {
     "data": {
      "image/png": "[encoded data removed]",
      "text/plain": [
       "<Figure size 432x288 with 1 Axes>"
      ]
     },
     "metadata": {
      "needs_background": "light"
     },
     "output_type": "display_data"
    }
   ],
   "source": [
    "hdr = db[-1]\n",
    "imgs = list(hdr.data(f'{srw_det.name}_image'))\n",
    "cfg = hdr.config_data(srw_det.name)['primary'][0]\n",
    "hor_ext = cfg[f'{srw_det.name}_horizontal_extent']\n",
    "vert_ext = cfg[f'{srw_det.name}_vertical_extent']\n",
    "plt.imshow(imgs[-2], aspect='equal', extent=(*hor_ext, *vert_ext))"
   ]
  },
  {
   "cell_type": "markdown",
   "metadata": {},
   "source": [
    "To view single-electron spectrum report (**Hint:** use a different\n",
    "``sim_id``, e.g. for the NSLS-II CHX beamline example):"
   ]
  },
  {
   "cell_type": "code",
   "execution_count": 18,
   "metadata": {},
   "outputs": [
    {
     "name": "stdout",
     "output_type": "stream",
     "text": [
      "\n",
      "\n",
      "Transient Scan ID: 1     Time: 2021-12-14 15:39:26\n",
      "Persistent Unique Scan ID: '189c8784-f067-4a96-a141-9fbfef61d3c0'\n",
      "New stream: 'primary'\n",
      "+-----------+------------+--------------+\n",
      "|   seq_num |       time | srw_det_mean |\n",
      "+-----------+------------+--------------+\n",
      "|         1 | 15:39:31.0 | 9721365919945.510 |\n",
      "+-----------+------------+--------------+\n",
      "generator count ['189c8784'] (scan num: 1)\n",
      "\n",
      "\n",
      "\n"
     ]
    }
   ],
   "source": [
    "\n",
    "%run -i ../../examples/prepare_det_env.py\n",
    "\n",
    "import sirepo_bluesky.srw_detector as sd\n",
    "import bluesky.plans as bp\n",
    "\n",
    "sim_id  = '00000000' # NSLS-II CHX beamline\n",
    "\n",
    "srw_det = sd.SirepoSRWDetector(sim_id=sim_id, sim_type='srw', source_simulation=True,\n",
    "                            sirepo_server='http://localhost:8000',\n",
    "                            root_dir='/tmp/sirepo-bluesky-data')\n",
    "\n",
    "srw_det.configuration_attrs = ['photon_energy', 'shape']\n",
    "\n",
    "uid, = RE(bp.count([srw_det]))"
   ]
  },
  {
   "cell_type": "markdown",
   "metadata": {},
   "source": [
    "We can observe the produced spectrum as "
   ]
  },
  {
   "cell_type": "code",
   "execution_count": 19,
   "metadata": {},
   "outputs": [
    {
     "data": {
      "text/plain": [
       "[<matplotlib.lines.Line2D at 0x1a7fdf130>]"
      ]
     },
     "execution_count": 19,
     "metadata": {},
     "output_type": "execute_result"
    },
    {
     "data": {
      "image/png": "[encoded data removed]",
      "text/plain": [
       "<Figure size 432x288 with 1 Axes>"
      ]
     },
     "metadata": {
      "needs_background": "light"
     },
     "output_type": "display_data"
    }
   ],
   "source": [
    "hdr = db[-1]\n",
    "cfg = hdr.config_data(srw_det.name)['primary'][0]\n",
    "energies = cfg[f'{srw_det.name}_photon_energy']\n",
    "spectrum, = hdr.data(f'{srw_det.name}_image')\n",
    "plt.plot(energies, spectrum)"
   ]
  },
  {
   "cell_type": "markdown",
   "metadata": {},
   "source": [
    "## Use a simulated Sirepo Flyer to run multiple simulations\n",
    "\n",
    "This section is based on the Young's Double Slit Experiment Sirepo example\n",
    "that can be found in the wavefront propagation folder on the SRW simulations\n",
    "section\n",
    "\n",
    "Open the simulation and grab the new UID (the last 8 alphanumeric symbols), then start ``ipython`` and run the following:"
   ]
  },
  {
   "cell_type": "code",
   "execution_count": 28,
   "metadata": {},
   "outputs": [],
   "source": [
    "%run -i ../../examples/prepare_flyer_env.py\n",
    "\n",
    "import bluesky.plans as bp\n",
    "import sirepo_bluesky.sirepo_flyer as sf"
   ]
  },
  {
   "cell_type": "markdown",
   "metadata": {},
   "source": [
    "We can reate 5 different simulations that change 4 parameters at a time"
   ]
  },
  {
   "cell_type": "code",
   "execution_count": 29,
   "metadata": {},
   "outputs": [],
   "source": [
    "params_to_change = []\n",
    "for i in range(1, 4):\n",
    "    key1 = 'Aperture'\n",
    "    parameters_update1 = {'horizontalSize': i * .1, 'verticalSize': (16 - i) * .1}\n",
    "    key2 = 'Lens'\n",
    "    parameters_update2 = {'horizontalFocalLength': i + 7}\n",
    "    key3 = 'Obstacle'\n",
    "    parameters_update3 = {'horizontalSize': 6 - i}\n",
    "    params_to_change.append({key1: parameters_update1,\n",
    "                                key2: parameters_update2,\n",
    "                                key3: parameters_update3})"
   ]
  },
  {
   "cell_type": "markdown",
   "metadata": {},
   "source": [
    "To create the flyer and run a fly scan, where ``sim_id`` is the UID of this simulation, we run"
   ]
  },
  {
   "cell_type": "code",
   "execution_count": 30,
   "metadata": {},
   "outputs": [
    {
     "name": "stdout",
     "output_type": "stream",
     "text": [
      "\n",
      "\n",
      "Transient Scan ID: 1     Time: 2021-12-14 15:45:09\n",
      "Persistent Unique Scan ID: 'cd71f980-3123-45bd-9646-17ad9e740b95'\n",
      "copy 00000000 -> hNw7DtfH, Youngs Double Slit Experiment Bluesky\n",
      "copy 00000000 -> WjHSLRe0, Youngs Double Slit Experiment Bluesky 2\n",
      "copy 00000000 -> zJbwwZZO, Youngs Double Slit Experiment Bluesky 3\n",
      "running sim hNw7DtfH\n",
      "running sim WjHSLRe0\n",
      "running sim zJbwwZZO\n",
      "Status of sim hNw7DtfH: completed\n",
      "Status of sim WjHSLRe0: completed\n",
      "Status of sim zJbwwZZO: completed\n",
      "New stream: 'sirepo_flyer'\n",
      "copy hNw7DtfH data hash: d5d6628d50bd65a329717e8ffb942224\n",
      "copy WjHSLRe0 data hash: d6f8b77048fe6ad48e007cfb776528ad\n",
      "copy zJbwwZZO data hash: e5f914471d873f156c31815ab705575f\n",
      "\n",
      "\n",
      "\n"
     ]
    },
    {
     "data": {
      "text/plain": [
       "('cd71f980-3123-45bd-9646-17ad9e740b95',)"
      ]
     },
     "execution_count": 30,
     "metadata": {},
     "output_type": "execute_result"
    }
   ],
   "source": [
    "sim_id = '00000000' # Young's Double Slit Experiment\n",
    "\n",
    "sirepo_flyer = sf.SirepoFlyer(sim_id=sim_id, server_name='http://localhost:8000',\n",
    "                                      root_dir='/tmp/sirepo-bluesky-data', params_to_change=params_to_change,\n",
    "                                      watch_name='W60')\n",
    "\n",
    "RE(bp.fly([sirepo_flyer]))"
   ]
  },
  {
   "cell_type": "markdown",
   "metadata": {},
   "source": [
    "We access the data in the same manner as before"
   ]
  },
  {
   "cell_type": "code",
   "execution_count": 31,
   "metadata": {},
   "outputs": [
    {
     "data": {
      "text/html": [
       "<div>\n",
       "<style scoped>\n",
       "    .dataframe tbody tr th:only-of-type {\n",
       "        vertical-align: middle;\n",
       "    }\n",
       "\n",
       "    .dataframe tbody tr th {\n",
       "        vertical-align: top;\n",
       "    }\n",
       "\n",
       "    .dataframe thead th {\n",
       "        text-align: right;\n",
       "    }\n",
       "</style>\n",
       "<table border=\"1\" class=\"dataframe\">\n",
       "  <thead>\n",
       "    <tr style=\"text-align: right;\">\n",
       "      <th></th>\n",
       "      <th>time</th>\n",
       "      <th>sirepo_flyer_image</th>\n",
       "      <th>sirepo_flyer_shape</th>\n",
       "      <th>sirepo_flyer_mean</th>\n",
       "      <th>sirepo_flyer_photon_energy</th>\n",
       "      <th>sirepo_flyer_horizontal_extent</th>\n",
       "      <th>sirepo_flyer_vertical_extent</th>\n",
       "      <th>sirepo_flyer_hash_value</th>\n",
       "      <th>sirepo_flyer_status</th>\n",
       "      <th>sirepo_flyer_Aperture_horizontalSize</th>\n",
       "      <th>sirepo_flyer_Aperture_verticalSize</th>\n",
       "      <th>sirepo_flyer_Lens_horizontalFocalLength</th>\n",
       "      <th>sirepo_flyer_Obstacle_horizontalSize</th>\n",
       "    </tr>\n",
       "    <tr>\n",
       "      <th>seq_num</th>\n",
       "      <th></th>\n",
       "      <th></th>\n",
       "      <th></th>\n",
       "      <th></th>\n",
       "      <th></th>\n",
       "      <th></th>\n",
       "      <th></th>\n",
       "      <th></th>\n",
       "      <th></th>\n",
       "      <th></th>\n",
       "      <th></th>\n",
       "      <th></th>\n",
       "      <th></th>\n",
       "    </tr>\n",
       "  </thead>\n",
       "  <tbody>\n",
       "    <tr>\n",
       "      <th>2</th>\n",
       "      <td>2021-12-14 20:45:35.436273813</td>\n",
       "      <td>21194044-4aff-49f4-a058-a5b581b92be3</td>\n",
       "      <td>[250, 546]</td>\n",
       "      <td>9.944933e+13</td>\n",
       "      <td>4240.0</td>\n",
       "      <td>[-0.001015813953488372, 0.0010120930232558139]</td>\n",
       "      <td>[-0.000249500998003992, 0.00024750499001996017]</td>\n",
       "      <td>d6f8b77048fe6ad48e007cfb776528ad</td>\n",
       "      <td>completed</td>\n",
       "      <td>0.2</td>\n",
       "      <td>1.4</td>\n",
       "      <td>9</td>\n",
       "      <td>4</td>\n",
       "    </tr>\n",
       "    <tr>\n",
       "      <th>1</th>\n",
       "      <td>2021-12-14 20:45:35.436273813</td>\n",
       "      <td>58365ebf-caeb-4afd-b9aa-5ac189dbd4b7</td>\n",
       "      <td>[250, 896]</td>\n",
       "      <td>3.677965e+13</td>\n",
       "      <td>4240.0</td>\n",
       "      <td>[-0.0013627376425855513, 0.0013596958174904943]</td>\n",
       "      <td>[-0.000249500998003992, 0.00024750499001996017]</td>\n",
       "      <td>d5d6628d50bd65a329717e8ffb942224</td>\n",
       "      <td>completed</td>\n",
       "      <td>0.1</td>\n",
       "      <td>1.5</td>\n",
       "      <td>8</td>\n",
       "      <td>5</td>\n",
       "    </tr>\n",
       "    <tr>\n",
       "      <th>3</th>\n",
       "      <td>2021-12-14 20:45:35.436273813</td>\n",
       "      <td>019ab161-1ecb-4e69-8d5a-1141d6df9b4c</td>\n",
       "      <td>[250, 440]</td>\n",
       "      <td>1.492891e+14</td>\n",
       "      <td>4240.0</td>\n",
       "      <td>[-0.0009701657458563539, 0.0009701657458563542]</td>\n",
       "      <td>[-0.00024650698602794426, 0.0002504990019960079]</td>\n",
       "      <td>e5f914471d873f156c31815ab705575f</td>\n",
       "      <td>completed</td>\n",
       "      <td>0.3</td>\n",
       "      <td>1.3</td>\n",
       "      <td>10</td>\n",
       "      <td>3</td>\n",
       "    </tr>\n",
       "  </tbody>\n",
       "</table>\n",
       "</div>"
      ],
      "text/plain": [
       "                                 time                    sirepo_flyer_image  \\\n",
       "seq_num                                                                       \n",
       "2       2021-12-14 20:45:35.436273813  21194044-4aff-49f4-a058-a5b581b92be3   \n",
       "1       2021-12-14 20:45:35.436273813  58365ebf-caeb-4afd-b9aa-5ac189dbd4b7   \n",
       "3       2021-12-14 20:45:35.436273813  019ab161-1ecb-4e69-8d5a-1141d6df9b4c   \n",
       "\n",
       "        sirepo_flyer_shape  sirepo_flyer_mean  sirepo_flyer_photon_energy  \\\n",
       "seq_num                                                                     \n",
       "2               [250, 546]       9.944933e+13                      4240.0   \n",
       "1               [250, 896]       3.677965e+13                      4240.0   \n",
       "3               [250, 440]       1.492891e+14                      4240.0   \n",
       "\n",
       "                          sirepo_flyer_horizontal_extent  \\\n",
       "seq_num                                                    \n",
       "2         [-0.001015813953488372, 0.0010120930232558139]   \n",
       "1        [-0.0013627376425855513, 0.0013596958174904943]   \n",
       "3        [-0.0009701657458563539, 0.0009701657458563542]   \n",
       "\n",
       "                             sirepo_flyer_vertical_extent  \\\n",
       "seq_num                                                     \n",
       "2         [-0.000249500998003992, 0.00024750499001996017]   \n",
       "1         [-0.000249500998003992, 0.00024750499001996017]   \n",
       "3        [-0.00024650698602794426, 0.0002504990019960079]   \n",
       "\n",
       "                  sirepo_flyer_hash_value sirepo_flyer_status  \\\n",
       "seq_num                                                         \n",
       "2        d6f8b77048fe6ad48e007cfb776528ad           completed   \n",
       "1        d5d6628d50bd65a329717e8ffb942224           completed   \n",
       "3        e5f914471d873f156c31815ab705575f           completed   \n",
       "\n",
       "         sirepo_flyer_Aperture_horizontalSize  \\\n",
       "seq_num                                         \n",
       "2                                         0.2   \n",
       "1                                         0.1   \n",
       "3                                         0.3   \n",
       "\n",
       "         sirepo_flyer_Aperture_verticalSize  \\\n",
       "seq_num                                       \n",
       "2                                       1.4   \n",
       "1                                       1.5   \n",
       "3                                       1.3   \n",
       "\n",
       "         sirepo_flyer_Lens_horizontalFocalLength  \\\n",
       "seq_num                                            \n",
       "2                                              9   \n",
       "1                                              8   \n",
       "3                                             10   \n",
       "\n",
       "         sirepo_flyer_Obstacle_horizontalSize  \n",
       "seq_num                                        \n",
       "2                                           4  \n",
       "1                                           5  \n",
       "3                                           3  "
      ]
     },
     "execution_count": 31,
     "metadata": {},
     "output_type": "execute_result"
    }
   ],
   "source": [
    "hdr = db[-1]\n",
    "hdr.table(stream_name='sirepo_flyer')"
   ]
  },
  {
   "cell_type": "markdown",
   "metadata": {},
   "source": [
    "Leading/trailing empty lines:"
   ]
  }
 ],
 "metadata": {
  "kernelspec": {
   "display_name": "Python 3",
   "language": "python",
   "name": "python3"
  },
  "language_info": {
   "codemirror_mode": {
    "name": "ipython",
    "version": 3
   },
   "file_extension": ".py",
   "mimetype": "text/x-python",
   "name": "python",
   "nbconvert_exporter": "python",
   "pygments_lexer": "ipython3",
   "version": "3.9.7"
  }
 },
 "nbformat": 4,
 "nbformat_minor": 4
}
