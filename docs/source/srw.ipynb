{
 "cells": [
  {
   "cell_type": "markdown",
   "metadata": {},
   "source": [
    "# SRW\n",
    "\n",
    "## Prepare Bluesky and trigger a simulated Sirepo detector in SRW\n"
   ]
  },
  {
   "cell_type": "markdown",
   "metadata": {},
   "source": [
    "Start ``ipython`` and run the following where ``sim_id`` is the UID for the simulation we are working with:"
   ]
  },
  {
   "cell_type": "code",
   "execution_count": 1,
   "metadata": {},
   "outputs": [
    {
     "name": "stdout",
     "output_type": "stream",
     "text": [
      "\n",
      "\n",
      "Transient Scan ID: 1     Time: 2021-12-09 14:53:02\n",
      "Persistent Unique Scan ID: '79714c95-55ad-4288-9e31-dc2b7d260c37'\n",
      "New stream: 'primary'\n",
      "+-----------+------------+--------------------------------+--------------+\n",
      "|   seq_num |       time | Aperture_sirepo_horizontalSize | srw_det_mean |\n",
      "+-----------+------------+--------------------------------+--------------+\n",
      "|         1 | 14:53:12.1 |                          0.000 |        0.000 |\n",
      "|         2 | 14:53:17.4 |                          0.050 | 53078019985587.875 |\n",
      "|         3 | 14:53:21.6 |                          0.100 | 117643347136211.078 |\n",
      "|         4 | 14:53:25.8 |                          0.150 | 165182853921254.469 |\n",
      "|         5 | 14:53:30.0 |                          0.200 | 207544619693860.719 |\n",
      "|         6 | 14:53:34.2 |                          0.250 | 255227882891592.688 |\n",
      "+-----------+------------+--------------------------------+--------------+\n",
      "generator scan ['79714c95'] (scan num: 1)\n",
      "\n",
      "\n",
      "\n"
     ]
    },
    {
     "data": {
      "text/plain": [
       "('79714c95-55ad-4288-9e31-dc2b7d260c37',)"
      ]
     },
     "execution_count": 1,
     "metadata": {},
     "output_type": "execute_result"
    },
    {
     "data": {
      "image/png": "[encoded data removed]",
      "text/plain": [
       "<Figure size 360x360 with 1 Axes>"
      ]
     },
     "metadata": {
      "needs_background": "light"
     },
     "output_type": "display_data"
    }
   ],
   "source": [
    "#%matplotlib widget\n",
    "%run -i _prepare_det_env.py\n",
    "\n",
    "import sirepo_bluesky.srw_detector as sd\n",
    "import bluesky.plans as bp\n",
    "# Note: replace '00000001' with the `sim_id` from your simulation\n",
    "srw_det = sd.SirepoSRWDetector(sim_id='00000001', sim_type='srw',\n",
    "                                sirepo_server='http://localhost:8000',\n",
    "                                root_dir='/tmp/sirepo-bluesky-data')\n",
    "srw_det.select_optic('Aperture')\n",
    "param1 = srw_det.create_parameter('horizontalSize')\n",
    "param2 = srw_det.create_parameter('verticalSize')\n",
    "srw_det.configuration_attrs = ['horizontal_extent', 'vertical_extent', 'shape']\n",
    "#RE(bp.grid_scan([srw_det], param1, -1, 1, 2, param2, -1, 1, 2))\n",
    "RE(bp.scan([srw_det], param1, 0, .25, 6))"
   ]
  },
  {
   "cell_type": "markdown",
   "metadata": {},
   "source": [
    "We can access the data as the last item in the database (db[-1]), which when plotted as an image will look like:"
   ]
  },
  {
   "cell_type": "code",
   "execution_count": 2,
   "metadata": {},
   "outputs": [
    {
     "data": {
      "text/plain": [
       "<matplotlib.image.AxesImage at 0x1a9886520>"
      ]
     },
     "execution_count": 2,
     "metadata": {},
     "output_type": "execute_result"
    },
    {
     "data": {
      "image/png": "[encoded data removed]",
      "text/plain": [
       "<Figure size 432x288 with 1 Axes>"
      ]
     },
     "metadata": {
      "needs_background": "light"
     },
     "output_type": "display_data"
    }
   ],
   "source": [
    "hdr = db[-1]\n",
    "imgs = list(hdr.data(f'{srw_det.name}_image'))\n",
    "cfg = hdr.config_data(srw_det.name)['primary'][0]\n",
    "hor_ext = cfg[f'{srw_det.name}_horizontal_extent']\n",
    "vert_ext = cfg[f'{srw_det.name}_vertical_extent']\n",
    "plt.imshow(imgs[-2], aspect='equal', extent=(*hor_ext, *vert_ext))"
   ]
  },
  {
   "cell_type": "markdown",
   "metadata": {},
   "source": [
    "To view single-electron spectrum report (**Hint:** use a different\n",
    "``sim_id``, e.g. for the NSLS-II CHX beamline example):"
   ]
  },
  {
   "cell_type": "code",
   "execution_count": 10,
   "metadata": {},
   "outputs": [],
   "source": [
    "\n",
    "%run -i _prepare_det_env.py\n",
    "import sirepo_bluesky.srw_detector as sd\n",
    "import bluesky.plans as bp\n",
    "\n",
    "#srw_det = sd.SirepoSRWDetector(sim_id='<sim_id>', source_simulation=True,\n",
    "#                                  sirepo_server='http://localhost:8000')\n",
    "#srw_det.configuration_attrs = ['photon_energy', 'shape']\n",
    "\n",
    "srw_det = sd.SirepoSRWDetector(sim_id='hUZPYiMG', sim_type='srw', source_simulation=True,\n",
    "                            sirepo_server='http://localhost:8000',\n",
    "                            root_dir='/tmp/sirepo-bluesky-data')\n",
    "\n",
    "srw_det.configuration_attrs = ['photon_energy', 'shape']"
   ]
  },
  {
   "cell_type": "code",
   "execution_count": 11,
   "metadata": {},
   "outputs": [
    {
     "name": "stdout",
     "output_type": "stream",
     "text": [
      "\n",
      "\n",
      "Transient Scan ID: 1     Time: 2021-12-09 14:56:11\n",
      "Persistent Unique Scan ID: '68c0357d-3adb-411f-87bf-04eb98ff57aa'\n",
      "New stream: 'primary'\n",
      "+-----------+------------+--------------+\n",
      "|   seq_num |       time | srw_det_mean |\n",
      "+-----------+------------+--------------+\n",
      "|         1 | 14:56:18.8 | 39552176343431.875 |\n",
      "+-----------+------------+--------------+\n",
      "generator count ['68c0357d'] (scan num: 1)\n",
      "\n",
      "\n",
      "\n"
     ]
    },
    {
     "data": {
      "text/plain": [
       "('68c0357d-3adb-411f-87bf-04eb98ff57aa',)"
      ]
     },
     "execution_count": 11,
     "metadata": {},
     "output_type": "execute_result"
    }
   ],
   "source": [
    "RE(bp.count([srw_det]))"
   ]
  },
  {
   "cell_type": "markdown",
   "metadata": {},
   "source": [
    "We can observe the produced spectrum as "
   ]
  },
  {
   "cell_type": "code",
   "execution_count": 12,
   "metadata": {},
   "outputs": [
    {
     "data": {
      "text/plain": [
       "[<matplotlib.lines.Line2D at 0x1a9fd4a00>]"
      ]
     },
     "execution_count": 12,
     "metadata": {},
     "output_type": "execute_result"
    },
    {
     "data": {
      "image/png": "[encoded data removed]",
      "text/plain": [
       "<Figure size 432x288 with 1 Axes>"
      ]
     },
     "metadata": {
      "needs_background": "light"
     },
     "output_type": "display_data"
    }
   ],
   "source": [
    "hdr = db[-1]\n",
    "cfg = hdr.config_data(srw_det.name)['primary'][0]\n",
    "energies = cfg[f'{srw_det.name}_photon_energy']\n",
    "spectrum, = hdr.data(f'{srw_det.name}_image')\n",
    "plt.plot(energies, spectrum)"
   ]
  },
  {
   "cell_type": "markdown",
   "metadata": {},
   "source": [
    "## Use a simulated Sirepo Flyer to run multiple simulations\n",
    "\n",
    "This section is based on the Young's Double Slit Experiment Sirepo example\n",
    "that can be found in the wavefront propagation folder on the SRW simulations\n",
    "section\n",
    "\n",
    "Open the simulation and grab the new UID (the last 8 alphanumeric symbols), then start ``ipython`` and run the following:"
   ]
  },
  {
   "cell_type": "code",
   "execution_count": 23,
   "metadata": {},
   "outputs": [],
   "source": [
    "%run -i _prepare_flyer_env.py\n",
    "import bluesky.plans as bp\n",
    "import sirepo_bluesky.sirepo_flyer as sf"
   ]
  },
  {
   "cell_type": "markdown",
   "metadata": {},
   "source": [
    "We can reate 5 different simulations that change 4 parameters at a time"
   ]
  },
  {
   "cell_type": "code",
   "execution_count": 24,
   "metadata": {},
   "outputs": [],
   "source": [
    "params_to_change = []\n",
    "for i in range(1, 4):\n",
    "    key1 = 'Aperture'\n",
    "    parameters_update1 = {'horizontalSize': i * .1, 'verticalSize': (16 - i) * .1}\n",
    "    key2 = 'Lens'\n",
    "    parameters_update2 = {'horizontalFocalLength': i + 7}\n",
    "    key3 = 'Obstacle'\n",
    "    parameters_update3 = {'horizontalSize': 6 - i}\n",
    "    params_to_change.append({key1: parameters_update1,\n",
    "                                key2: parameters_update2,\n",
    "                                key3: parameters_update3})"
   ]
  },
  {
   "cell_type": "markdown",
   "metadata": {},
   "source": [
    "To create the flyer and run a fly scan, where ``sim_id`` is the UID of this simulation, we run"
   ]
  },
  {
   "cell_type": "code",
   "execution_count": 26,
   "metadata": {},
   "outputs": [
    {
     "name": "stdout",
     "output_type": "stream",
     "text": [
      "\n",
      "\n",
      "Transient Scan ID: 2     Time: 2021-12-08 14:42:40\n",
      "Persistent Unique Scan ID: 'bf8507e1-d980-40b9-b99b-65065e51a4e4'\n",
      "copy 00000000 -> osxkLE8p, Youngs Double Slit Experiment Bluesky 2\n",
      "copy 00000000 -> ygyxl98K, Youngs Double Slit Experiment Bluesky 3\n",
      "copy 00000000 -> GrI4cDP4, Youngs Double Slit Experiment Bluesky 4\n",
      "running sim osxkLE8p\n",
      "running sim ygyxl98K\n",
      "running sim GrI4cDP4\n",
      "Status of sim osxkLE8p: completed\n",
      "Status of sim ygyxl98K: completed\n",
      "Status of sim GrI4cDP4: completed\n",
      "New stream: 'sirepo_flyer'\n",
      "copy osxkLE8p data hash: d5d6628d50bd65a329717e8ffb942224\n",
      "copy ygyxl98K data hash: d6f8b77048fe6ad48e007cfb776528ad\n",
      "copy GrI4cDP4 data hash: e5f914471d873f156c31815ab705575f\n"
     ]
    },
    {
     "name": "stderr",
     "output_type": "stream",
     "text": [
      "/Users/thomas/mambaforge/envs/sirepo-bluesky/lib/python3.9/site-packages/event_model/__init__.py:208: UserWarning: The document type 'bulk_events' has been deprecated in favor of 'event_page', whose structure is a transpose of 'bulk_events'.\n",
      "  warnings.warn(\n"
     ]
    },
    {
     "name": "stdout",
     "output_type": "stream",
     "text": [
      "\n",
      "\n",
      "\n"
     ]
    },
    {
     "data": {
      "text/plain": [
       "('bf8507e1-d980-40b9-b99b-65065e51a4e4',)"
      ]
     },
     "execution_count": 26,
     "metadata": {},
     "output_type": "execute_result"
    }
   ],
   "source": [
    "sim_id = '00000000' # Young's Double Slit Experiment\n",
    "\n",
    "sirepo_flyer = sf.SirepoFlyer(sim_id=sim_id, server_name='http://localhost:8000',\n",
    "                                      root_dir='/tmp/sirepo-bluesky-data', params_to_change=params_to_change,\n",
    "                                      watch_name='W60')\n",
    "\n",
    "RE(bp.fly([sirepo_flyer]))"
   ]
  },
  {
   "cell_type": "markdown",
   "metadata": {},
   "source": [
    "We access the data in the same manner as before"
   ]
  },
  {
   "cell_type": "code",
   "execution_count": 27,
   "metadata": {},
   "outputs": [
    {
     "data": {
      "text/html": [
       "<div>\n",
       "<style scoped>\n",
       "    .dataframe tbody tr th:only-of-type {\n",
       "        vertical-align: middle;\n",
       "    }\n",
       "\n",
       "    .dataframe tbody tr th {\n",
       "        vertical-align: top;\n",
       "    }\n",
       "\n",
       "    .dataframe thead th {\n",
       "        text-align: right;\n",
       "    }\n",
       "</style>\n",
       "<table border=\"1\" class=\"dataframe\">\n",
       "  <thead>\n",
       "    <tr style=\"text-align: right;\">\n",
       "      <th></th>\n",
       "      <th>time</th>\n",
       "      <th>sirepo_flyer_image</th>\n",
       "      <th>sirepo_flyer_shape</th>\n",
       "      <th>sirepo_flyer_mean</th>\n",
       "      <th>sirepo_flyer_photon_energy</th>\n",
       "      <th>sirepo_flyer_horizontal_extent</th>\n",
       "      <th>sirepo_flyer_vertical_extent</th>\n",
       "      <th>sirepo_flyer_hash_value</th>\n",
       "      <th>sirepo_flyer_status</th>\n",
       "      <th>sirepo_flyer_Aperture_horizontalSize</th>\n",
       "      <th>sirepo_flyer_Aperture_verticalSize</th>\n",
       "      <th>sirepo_flyer_Lens_horizontalFocalLength</th>\n",
       "      <th>sirepo_flyer_Obstacle_horizontalSize</th>\n",
       "    </tr>\n",
       "    <tr>\n",
       "      <th>seq_num</th>\n",
       "      <th></th>\n",
       "      <th></th>\n",
       "      <th></th>\n",
       "      <th></th>\n",
       "      <th></th>\n",
       "      <th></th>\n",
       "      <th></th>\n",
       "      <th></th>\n",
       "      <th></th>\n",
       "      <th></th>\n",
       "      <th></th>\n",
       "      <th></th>\n",
       "      <th></th>\n",
       "    </tr>\n",
       "  </thead>\n",
       "  <tbody>\n",
       "    <tr>\n",
       "      <th>1</th>\n",
       "      <td>2021-12-08 19:43:02.947624922</td>\n",
       "      <td>3bfba48f-635b-4428-8b21-72ec7b46ad50</td>\n",
       "      <td>[250, 896]</td>\n",
       "      <td>3.677965e+13</td>\n",
       "      <td>4240.0</td>\n",
       "      <td>[-0.0013627376425855513, 0.0013596958174904943]</td>\n",
       "      <td>[-0.000249500998003992, 0.00024750499001996017]</td>\n",
       "      <td>d5d6628d50bd65a329717e8ffb942224</td>\n",
       "      <td>completed</td>\n",
       "      <td>0.1</td>\n",
       "      <td>1.5</td>\n",
       "      <td>8</td>\n",
       "      <td>5</td>\n",
       "    </tr>\n",
       "    <tr>\n",
       "      <th>3</th>\n",
       "      <td>2021-12-08 19:43:02.947624922</td>\n",
       "      <td>2032f4e7-a0a4-4226-944b-bac2d8be41a8</td>\n",
       "      <td>[250, 440]</td>\n",
       "      <td>1.492891e+14</td>\n",
       "      <td>4240.0</td>\n",
       "      <td>[-0.0009701657458563539, 0.0009701657458563542]</td>\n",
       "      <td>[-0.00024650698602794426, 0.0002504990019960079]</td>\n",
       "      <td>e5f914471d873f156c31815ab705575f</td>\n",
       "      <td>completed</td>\n",
       "      <td>0.3</td>\n",
       "      <td>1.3</td>\n",
       "      <td>10</td>\n",
       "      <td>3</td>\n",
       "    </tr>\n",
       "    <tr>\n",
       "      <th>2</th>\n",
       "      <td>2021-12-08 19:43:02.947624922</td>\n",
       "      <td>0b9ca03e-3cf6-4a5f-a304-7bd38b2c2efe</td>\n",
       "      <td>[250, 546]</td>\n",
       "      <td>9.944933e+13</td>\n",
       "      <td>4240.0</td>\n",
       "      <td>[-0.001015813953488372, 0.0010120930232558139]</td>\n",
       "      <td>[-0.000249500998003992, 0.00024750499001996017]</td>\n",
       "      <td>d6f8b77048fe6ad48e007cfb776528ad</td>\n",
       "      <td>completed</td>\n",
       "      <td>0.2</td>\n",
       "      <td>1.4</td>\n",
       "      <td>9</td>\n",
       "      <td>4</td>\n",
       "    </tr>\n",
       "  </tbody>\n",
       "</table>\n",
       "</div>"
      ],
      "text/plain": [
       "                                 time                    sirepo_flyer_image  \\\n",
       "seq_num                                                                       \n",
       "1       2021-12-08 19:43:02.947624922  3bfba48f-635b-4428-8b21-72ec7b46ad50   \n",
       "3       2021-12-08 19:43:02.947624922  2032f4e7-a0a4-4226-944b-bac2d8be41a8   \n",
       "2       2021-12-08 19:43:02.947624922  0b9ca03e-3cf6-4a5f-a304-7bd38b2c2efe   \n",
       "\n",
       "        sirepo_flyer_shape  sirepo_flyer_mean  sirepo_flyer_photon_energy  \\\n",
       "seq_num                                                                     \n",
       "1               [250, 896]       3.677965e+13                      4240.0   \n",
       "3               [250, 440]       1.492891e+14                      4240.0   \n",
       "2               [250, 546]       9.944933e+13                      4240.0   \n",
       "\n",
       "                          sirepo_flyer_horizontal_extent  \\\n",
       "seq_num                                                    \n",
       "1        [-0.0013627376425855513, 0.0013596958174904943]   \n",
       "3        [-0.0009701657458563539, 0.0009701657458563542]   \n",
       "2         [-0.001015813953488372, 0.0010120930232558139]   \n",
       "\n",
       "                             sirepo_flyer_vertical_extent  \\\n",
       "seq_num                                                     \n",
       "1         [-0.000249500998003992, 0.00024750499001996017]   \n",
       "3        [-0.00024650698602794426, 0.0002504990019960079]   \n",
       "2         [-0.000249500998003992, 0.00024750499001996017]   \n",
       "\n",
       "                  sirepo_flyer_hash_value sirepo_flyer_status  \\\n",
       "seq_num                                                         \n",
       "1        d5d6628d50bd65a329717e8ffb942224           completed   \n",
       "3        e5f914471d873f156c31815ab705575f           completed   \n",
       "2        d6f8b77048fe6ad48e007cfb776528ad           completed   \n",
       "\n",
       "         sirepo_flyer_Aperture_horizontalSize  \\\n",
       "seq_num                                         \n",
       "1                                         0.1   \n",
       "3                                         0.3   \n",
       "2                                         0.2   \n",
       "\n",
       "         sirepo_flyer_Aperture_verticalSize  \\\n",
       "seq_num                                       \n",
       "1                                       1.5   \n",
       "3                                       1.3   \n",
       "2                                       1.4   \n",
       "\n",
       "         sirepo_flyer_Lens_horizontalFocalLength  \\\n",
       "seq_num                                            \n",
       "1                                              8   \n",
       "3                                             10   \n",
       "2                                              9   \n",
       "\n",
       "         sirepo_flyer_Obstacle_horizontalSize  \n",
       "seq_num                                        \n",
       "1                                           5  \n",
       "3                                           3  \n",
       "2                                           4  "
      ]
     },
     "execution_count": 27,
     "metadata": {},
     "output_type": "execute_result"
    }
   ],
   "source": [
    "hdr = db[-1]\n",
    "hdr.table(stream_name='sirepo_flyer')"
   ]
  },
  {
   "cell_type": "markdown",
   "metadata": {},
   "source": [
    "Leading/trailing empty lines:"
   ]
  }
 ],
 "metadata": {
  "kernelspec": {
   "display_name": "Python 3",
   "language": "python",
   "name": "python3"
  },
  "language_info": {
   "codemirror_mode": {
    "name": "ipython",
    "version": 3
   },
   "file_extension": ".py",
   "mimetype": "text/x-python",
   "name": "python",
   "nbconvert_exporter": "python",
   "pygments_lexer": "ipython3",
   "version": "3.9.7"
  }
 },
 "nbformat": 4,
 "nbformat_minor": 4
}
