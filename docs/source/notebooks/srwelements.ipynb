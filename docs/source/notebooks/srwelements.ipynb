{
 "cells": [
  {
   "attachments": {},
   "cell_type": "markdown",
   "metadata": {},
   "source": [
    "# SRW Elements as Ophyd Objects\n",
    "\n",
    "This section is based on the **TES** beamline example.\n",
    "\n",
    "**Hint**: See the [List of predefined simulations in Sirepo](../simulations.rst) for examples of identifiers for different beamlines."
   ]
  },
  {
   "attachments": {},
   "cell_type": "markdown",
   "metadata": {},
   "source": [
    "## Run \"Beamline\" SRW simulations\n",
    "\n",
    "In this example, we scan the horizontal size of the aperture and collect the resulting averaged intensities and corresponding 2D intensity distributions from the \"Watchpoint\" report on the \"Beamline\" page of Sirepo/SRW app."
   ]
  },
  {
   "attachments": {},
   "cell_type": "markdown",
   "metadata": {},
   "source": [
    "Start ``ipython`` and run the following where ``sim_id`` is the UID for the simulation we are working with:"
   ]
  },
  {
   "cell_type": "code",
   "execution_count": null,
   "metadata": {},
   "outputs": [],
   "source": [
    "%run -i ../../../examples/prepare_det_env.py\n",
    "\n",
    "from sirepo_bluesky.sirepo_bluesky import SirepoBluesky\n",
    "from sirepo_bluesky.sirepo_ophyd import create_classes\n",
    "\n",
    "connection = SirepoBluesky(\"http://localhost:8000\")\n",
    "\n",
    "data, schema = connection.auth(\"srw\", sim_id=\"00000002\")\n",
    "classes, objects = create_classes(connection=connection)\n",
    "globals().update(**objects)\n",
    "\n",
    "aperture.horizontalSize.kind = \"hinted\"\n",
    "w9.duration.kind = \"hinted\"\n",
    "\n",
    "(uid,) = RE(bp.scan([w9], aperture.horizontalSize, 0, 2, 6))\n",
    "\n",
    "hdr = db[uid]\n",
    "tbl = hdr.table(fill=True)\n",
    "print(tbl)\n",
    "\n",
    "w9_image = np.array(list(hdr.data(\"w9_image\")))"
   ]
  },
  {
   "cell_type": "code",
   "execution_count": null,
   "metadata": {},
   "outputs": [],
   "source": [
    "from mpl_toolkits.axes_grid1 import ImageGrid\n",
    "\n",
    "print(f\"Data shape: {w9_image.shape}\")\n",
    "num_frames = w9_image.shape[0]\n",
    "ncols = 2\n",
    "nrows = int(np.ceil(num_frames / ncols))\n",
    "\n",
    "fig = plt.figure()\n",
    "grid = ImageGrid(\n",
    "    fig,\n",
    "    (1, 2, ncols, nrows),\n",
    "    nrows_ncols=(nrows, ncols),\n",
    "    axes_pad=0.5,\n",
    "    aspect=False,\n",
    ")\n",
    "\n",
    "for ax, im in zip(grid, w9_image[:, ...]):\n",
    "    ax.imshow(im, aspect=\"auto\")"
   ]
  },
  {
   "attachments": {},
   "cell_type": "markdown",
   "metadata": {},
   "source": [
    "## SRW Propagation as Ophyd Objects\n",
    "\n",
    "This example repeats the above simulation in \"Optical Elements as Ophyd Objects\", but instead scans the horizontal and vertical resolution modification factors of the \"Final Post Propagation\" on the \"Beamline\" page of Sirepo/SRW app.\n",
    "\n",
    "**Hint**: See the [\"SRW Propagation Parameters\" wiki page](https://github.com/radiasoft/sirepo/wiki/SRW-Propagation-Parameters) for a list of available propagation parameters."
   ]
  },
  {
   "cell_type": "code",
   "execution_count": null,
   "metadata": {},
   "outputs": [],
   "source": [
    "%run -i ../../../examples/prepare_det_env.py\n",
    "\n",
    "from sirepo_bluesky.sirepo_bluesky import SirepoBluesky\n",
    "from sirepo_bluesky.sirepo_ophyd import create_classes\n",
    "\n",
    "connection = SirepoBluesky(\"http://localhost:8000\")\n",
    "\n",
    "data, schema = connection.auth(\"srw\", sim_id=\"00000002\")\n",
    "classes, objects = create_classes(connection=connection)\n",
    "globals().update(**objects)\n",
    "\n",
    "post_propagation.hres_mod.kind = \"hinted\"\n",
    "post_propagation.vres_mod.kind = \"hinted\"\n",
    "w9.duration.kind = \"hinted\"\n",
    "\n",
    "(uid,) = RE(\n",
    "    bp.list_scan(\n",
    "        [w9],\n",
    "        post_propagation.hres_mod,\n",
    "        [0.1, 0.25, 0.5, 1, 2, 5],\n",
    "        post_propagation.vres_mod,\n",
    "        [0.1, 0.25, 0.5, 1, 2, 5],\n",
    "    )\n",
    ")\n",
    "\n",
    "hdr = db[uid]\n",
    "tbl = hdr.table(fill=True)\n",
    "print(tbl)\n",
    "\n",
    "w9_image = []\n",
    "for im in list(hdr.data(\"w9_image\")):\n",
    "    w9_image.append(im)"
   ]
  },
  {
   "cell_type": "code",
   "execution_count": null,
   "metadata": {},
   "outputs": [],
   "source": [
    "from mpl_toolkits.axes_grid1 import ImageGrid\n",
    "\n",
    "num_frames = len(w9_image)\n",
    "ncols = 2\n",
    "nrows = int(np.ceil(num_frames / ncols))\n",
    "\n",
    "fig = plt.figure()\n",
    "grid = ImageGrid(\n",
    "    fig,\n",
    "    (1, 2, ncols, nrows),\n",
    "    nrows_ncols=(nrows, ncols),\n",
    "    axes_pad=0.5,\n",
    "    aspect=False,\n",
    ")\n",
    "\n",
    "for ax, im in zip(grid, w9_image):\n",
    "    h_dims = 1e6 * w9.horizontal_extent.get()\n",
    "    v_dims = 1e6 * w9.vertical_extent.get()\n",
    "    ax.imshow(\n",
    "        im, interpolation=\"nearest\", aspect=\"auto\", extent=(*h_dims[:], *v_dims[:])\n",
    "    )"
   ]
  }
 ],
 "metadata": {
  "kernelspec": {
   "display_name": "Python 3",
   "language": "python",
   "name": "python3"
  },
  "language_info": {
   "codemirror_mode": {
    "name": "ipython",
    "version": 3
   },
   "file_extension": ".py",
   "mimetype": "text/x-python",
   "name": "python",
   "nbconvert_exporter": "python",
   "pygments_lexer": "ipython3",
   "version": "3.10.11"
  }
 },
 "nbformat": 4,
 "nbformat_minor": 4
}
