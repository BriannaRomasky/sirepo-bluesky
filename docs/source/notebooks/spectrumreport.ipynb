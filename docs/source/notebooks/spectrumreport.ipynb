{
 "cells": [
  {
   "attachments": {},
   "cell_type": "markdown",
   "metadata": {},
   "source": [
    "# Using Run Engine to Generate Spectrum Reports\n",
    "\n",
    "In this example, we scan the vertical amplitude of the undulator and collect the \"Single Electron Spectrum\" report from the \"Beamline\" page of the Sirepo/SRW app. Afterwards, we plot the peaks of the spectra. This section is based on the **ARI** beamline example.\n",
    "\n",
    "**Hint**: See the [List of predefined simulations in Sirepo](../simulations.rst) for examples of identifiers for different beamlines."
   ]
  },
  {
   "attachments": {},
   "cell_type": "markdown",
   "metadata": {},
   "source": [
    "Start ``ipython`` and run the following where ``sim_id`` is the UID for the simulation we are working with:"
   ]
  },
  {
   "cell_type": "code",
   "execution_count": null,
   "metadata": {},
   "outputs": [],
   "source": [
    "%run -i ../../../examples/prepare_det_env.py\n",
    "\n",
    "from sirepo_bluesky.sirepo_bluesky import SirepoBluesky\n",
    "from sirepo_bluesky.sirepo_ophyd import create_classes\n",
    "\n",
    "connection = SirepoBluesky(\"http://localhost:8000\")\n",
    "\n",
    "data, schema = connection.auth(\"srw\", sim_id=\"00000003\")\n",
    "classes, objects = create_classes(\n",
    "    connection=connection, extra_model_fields=[\"undulator\", \"intensityReport\"]\n",
    ")\n",
    "globals().update(**objects)\n",
    "\n",
    "undulator.verticalAmplitude.kind = \"hinted\"\n",
    "single_electron_spectrum.duration.kind = \"hinted\"\n",
    "single_electron_spectrum.flux.kind = \"hinted\"\n",
    "\n",
    "single_electron_spectrum.initialEnergy.get()\n",
    "single_electron_spectrum.initialEnergy.put(20)\n",
    "single_electron_spectrum.finalEnergy.put(1100)\n",
    "\n",
    "num_steps = 6\n",
    "\n",
    "(uid,) = RE(\n",
    "    bp.scan(\n",
    "        [single_electron_spectrum],\n",
    "        undulator.verticalAmplitude,\n",
    "        0.2,\n",
    "        1.2,\n",
    "        num_steps,\n",
    "    )\n",
    ")\n",
    "\n",
    "hdr = db[uid]\n",
    "tbl = hdr.table()\n",
    "print(tbl)\n",
    "\n",
    "ses_data = np.array(list(hdr.data(\"single_electron_spectrum_image\")))\n",
    "ampl_data = np.array(list(hdr.data(\"undulator_verticalAmplitude\")))"
   ]
  },
  {
   "cell_type": "code",
   "execution_count": null,
   "metadata": {},
   "outputs": [],
   "source": [
    "import peakutils\n",
    "from mpl_toolkits.axes_grid1 import ImageGrid\n",
    "\n",
    "ncols = 2\n",
    "nrows = int(np.ceil((num_steps) / ncols))\n",
    "\n",
    "fig = plt.figure()\n",
    "grid = ImageGrid(\n",
    "    fig,\n",
    "    (1, 2, ncols, nrows),\n",
    "    nrows_ncols=(nrows, ncols),\n",
    "    axes_pad=0.5,\n",
    "    aspect=False,\n",
    ")\n",
    "\n",
    "for i in range(num_steps):\n",
    "    ax = grid[i]\n",
    "    ax.plot(ses_data[i, :], label=f\"vert. magn. fld. {ampl_data[i]:.3f}T\")\n",
    "    peak = peakutils.indexes(ses_data[i, :], thres=0.07)\n",
    "    ax.scatter(peak, ses_data[i, peak], c=\"orange\")\n",
    "    ax.grid()\n",
    "    if i == 0:\n",
    "        ax.set_title(\"Single-Electron Spectrum vs. Vertical Magnetic Field\")\n",
    "\n",
    "plt.figure()\n",
    "plt.imshow(ses_data, aspect=\"auto\")"
   ]
  }
 ],
 "metadata": {
  "kernelspec": {
   "display_name": "sirepo-bluesky",
   "language": "python",
   "name": "python3"
  },
  "language_info": {
   "codemirror_mode": {
    "name": "ipython",
    "version": 3
   },
   "file_extension": ".py",
   "mimetype": "text/x-python",
   "name": "python",
   "nbconvert_exporter": "python",
   "pygments_lexer": "ipython3",
   "version": "3.10.11"
  }
 },
 "nbformat": 4,
 "nbformat_minor": 2
}
